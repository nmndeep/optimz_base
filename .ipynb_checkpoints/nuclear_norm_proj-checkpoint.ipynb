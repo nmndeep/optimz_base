{
 "cells": [
  {
   "cell_type": "markdown",
   "metadata": {},
   "source": [
    "#### Nuclear norm and projection onto simplex"
   ]
  },
  {
   "cell_type": "code",
   "execution_count": 1,
   "metadata": {},
   "outputs": [],
   "source": [
    "import numpy as np\n",
    "import matplotlib.pyplot as plt\n",
    "from timeit import timeit\n",
    "import autograd"
   ]
  },
  {
   "cell_type": "code",
   "execution_count": 2,
   "metadata": {},
   "outputs": [],
   "source": [
    "def nuclear_norm(A):\n",
    "    return np.sum(np.linalg.svd(A)[1])"
   ]
  },
  {
   "cell_type": "code",
   "execution_count": null,
   "metadata": {},
   "outputs": [],
   "source": [
    "gradient = autograd.grad(lambda X : func(S, X))\n",
    "\n",
    "def proj_grad_des(start, iters, grad):\n",
    "    points = [start]\n",
    "    for ite in iters:\n",
    "        points.append(project(points[-1]-ite*grad(points[-1])))\n",
    "    return points\n",
    "\n",
    "def projection(x):\n",
    "    if np.sum(x)<=1 and np.alltrue(x>=0):\n",
    "        return x"
   ]
  }
 ],
 "metadata": {
  "kernelspec": {
   "display_name": "Python 3",
   "language": "python",
   "name": "python3"
  },
  "language_info": {
   "codemirror_mode": {
    "name": "ipython",
    "version": 3
   },
   "file_extension": ".py",
   "mimetype": "text/x-python",
   "name": "python",
   "nbconvert_exporter": "python",
   "pygments_lexer": "ipython3",
   "version": "3.5.6"
  }
 },
 "nbformat": 4,
 "nbformat_minor": 2
}
