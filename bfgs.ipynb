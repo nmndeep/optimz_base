{
 "cells": [
  {
   "cell_type": "code",
   "execution_count": 2,
   "metadata": {},
   "outputs": [],
   "source": [
    "import numpy as np\n",
    "import numpy as np\n",
    "import scipy.io as sio\n",
    "\n",
    "batch_size = 1\n",
    "\n",
    "def f(X, y, W, lamb = 1e-2):\n",
    "    F_x = np.dot(X,W)\n",
    "\n",
    "    C = np.max(F_x, axis=1, keepdims=True)\n",
    "    exp_scores = np.exp(F_x - C)\n",
    "\n",
    "    S = exp_scores/np.sum(exp_scores, axis=1, keepdims=True)\n",
    "\n",
    "    #  log-loss\n",
    "    log_S = -np.log(S[np.arange(batch_size), y])\n",
    "    L = np.sum(log_S)/batch_size\n",
    "\n",
    "    # Add regularization using the L2 norm\n",
    "    L_reg = 0.5*lamb*np.sum(W*W)\n",
    "    L+= L_reg\n",
    "\n",
    "    # Gradient of the loss with respect to scores\n",
    "    grad = S.copy()\n",
    "    # Substract 1 from the scores of the correct class\n",
    "    grad[np.arange(batch_size),y] -= 1\n",
    "    grad /= batch_size\n",
    "\n",
    "    # Gradient of the loss with respect to weights\n",
    "    grad_W = X.T.dot(grad)\n",
    "\n",
    "    # Add gradient regularization\n",
    "    grad_W+= lamb*W\n",
    "\n",
    "    return L, grad_W"
   ]
  },
  {
   "cell_type": "code",
   "execution_count": 7,
   "metadata": {},
   "outputs": [
    {
     "name": "stdout",
     "output_type": "stream",
     "text": [
      "(7840, 1)\n",
      "(7840,)\n",
      "(7840, 1)\n",
      "(7840,)\n",
      "(7840, 1)\n",
      "(7840,)\n",
      "(7840, 1)\n",
      "(7840,)\n",
      "(7840, 1)\n",
      "(7840,)\n",
      "Result of BFGS method:\n",
      "Final Result (best point): [[-0.04364117 -0.04364117  0.39277052 ... -0.04364117 -0.04364117\n",
      "  -0.04364117]\n",
      " [-0.01246891 -0.01246891  0.11222015 ... -0.01246891 -0.01246891\n",
      "  -0.01246891]\n",
      " [-0.03740672 -0.03740672  0.33666045 ... -0.03740672 -0.03740672\n",
      "  -0.03740672]\n",
      " ...\n",
      " [-0.03740672 -0.03740672  0.33666045 ... -0.03740672 -0.03740672\n",
      "  -0.03740672]\n",
      " [-0.05611007 -0.05611007  0.50499067 ... -0.05611007 -0.05611007\n",
      "  -0.05611007]\n",
      " [-0.03740672 -0.03740672  0.33666045 ... -0.03740672 -0.03740672\n",
      "  -0.03740672]]\n",
      "Iteration Count: 5\n"
     ]
    }
   ],
   "source": [
    "import numpy as np\n",
    "from numpy import linalg as ln\n",
    "import scipy as sp\n",
    "import scipy.optimize\n",
    "\n",
    "def bfgs_method(f, w0, X, y, tot_iter=None, epsi=10e-3):\n",
    "\n",
    "#     if tot_iter is None:\n",
    "    tot_iter = 5\n",
    "    # initial values\n",
    "    k = 0\n",
    "    _, gfk = f(X, y, w0)\n",
    "    N = 7840  ###  Flatten size for MNIST\n",
    "    m = 1\n",
    "    I = np.eye(N, dtype=int)\n",
    "    Hk = np.eye(N, dtype=int)\n",
    "    wk = w0 \n",
    "    while ln.norm(gfk) > epsi and k < tot_iter:\n",
    "        pk = -np.dot(Hk, gfk.flatten()[:,np.newaxis])\n",
    "        alpha_k = 0.5 #Can add backtrack here\n",
    "        pk = pk.reshape(784,10)\n",
    "        wkp1 = wk + alpha_k * pk\n",
    "        sk = wkp1 - wk\n",
    "        wk = wkp1\n",
    "        _, gfkp1 = f(X, y, wkp1)\n",
    "        yk = gfkp1 - gfk\n",
    "        gfk = gfkp1\n",
    "        yk = yk.flatten()\n",
    "        rho = 1.0 / (yk.dot(sk.flatten()))\n",
    "        sk = sk.flatten()\n",
    "        M_1 = I - rho*sk[:, np.newaxis]*yk[np.newaxis, :]\n",
    "        M_2 = I - rho*yk[:, np.newaxis]*sk[np.newaxis, :]\n",
    "        Hk = np.dot(M_1, np.dot(Hk, M_2)) + (rho*sk[:, np.newaxis]*sk[np.newaxis, :])    ###  4.25 Pg 131 Lecture notes\n",
    "        k += 1\n",
    "\n",
    "    return (wk, k)\n",
    "\n",
    "X = np.random.randint(10,size = (1,784))\n",
    "y = 2\n",
    "W = np.zeros(shape=[784, 10])\n",
    "result, k = bfgs_method(f,W, X, y)\n",
    "print('Result of BFGS method:')\n",
    "print('Final Result (best point): %s' % (result))\n",
    "print('Iteration Count: %s' % (k))"
   ]
  },
  {
   "cell_type": "code",
   "execution_count": 9,
   "metadata": {},
   "outputs": [
    {
     "name": "stdout",
     "output_type": "stream",
     "text": [
      "[[-138.0806592  -138.0806592  1242.72593284 -138.0806592  -138.0806592\n",
      "  -138.0806592  -138.0806592  -138.0806592  -138.0806592  -138.0806592 ]]\n"
     ]
    }
   ],
   "source": []
  },
  {
   "cell_type": "code",
   "execution_count": null,
   "metadata": {},
   "outputs": [],
   "source": []
  }
 ],
 "metadata": {
  "kernelspec": {
   "display_name": "Python 3",
   "language": "python",
   "name": "python3"
  },
  "language_info": {
   "codemirror_mode": {
    "name": "ipython",
    "version": 3
   },
   "file_extension": ".py",
   "mimetype": "text/x-python",
   "name": "python",
   "nbconvert_exporter": "python",
   "pygments_lexer": "ipython3",
   "version": "3.5.6"
  }
 },
 "nbformat": 4,
 "nbformat_minor": 2
}
