{
 "cells": [
  {
   "cell_type": "markdown",
   "metadata": {},
   "source": [
    "#### Nuclear norm and projection onto simplex"
   ]
  },
  {
   "cell_type": "code",
   "execution_count": 4,
   "metadata": {},
   "outputs": [],
   "source": [
    "import numpy as np\n",
    "import matplotlib.pyplot as plt\n",
    "from timeit import timeit\n",
    "import autograd"
   ]
  },
  {
   "cell_type": "code",
   "execution_count": 5,
   "metadata": {},
   "outputs": [],
   "source": [
    "def nuclear_norm(A):\n",
    "    return np.sum(np.linalg.svd(A)[1])"
   ]
  },
  {
   "cell_type": "code",
   "execution_count": 6,
   "metadata": {},
   "outputs": [],
   "source": [
    "gradient = autograd.grad(lambda X : func(S, X))\n",
    "\n",
    "def proj_grad_des(start, iters, grad):\n",
    "    points = [start]\n",
    "    for ite in iters:\n",
    "        points.append(project(points[-1]-ite*grad(points[-1])))\n",
    "    return points\n",
    "\n",
    "##Projection onto simplex ##   shifting all singular values by the same parameter θ  and clipping values at  0 \n",
    "####   so that the sum of the shifted and clipped values is equal to  1\n",
    "\n",
    "\n",
    "def projection(x):\n",
    "    \n",
    "    if np.sum(x)<=1 and np.alltrue(x>=0):\n",
    "        return x\n",
    "    \n",
    "    u = np.sort(x)[::-1]\n",
    "    cssv = np.cumsum(u)\n",
    "    rho = np.nonzero(u * np.arange(1, len(u)+1) > (cssv - 1))[0][-1]\n",
    "    theta = (cssv[rho] - 1) / (rho + 1.0)\n",
    "    return np.maximum(x-theta, 0)\n",
    "\n",
    "def nuclear_projection(A):\n",
    "    ##    It requires a full SVD of the input matrix that in general requires cubic time.\n",
    "    ##    Not feasible for big matices\n",
    "    U, s, V = np.linalg.svd(A)\n",
    "    s = projection(s)    ####    For low rank approximation ??\n",
    "    return U.dot(np.diag(s).dot(V))\n",
    "\n"
   ]
  },
  {
   "cell_type": "code",
   "execution_count": null,
   "metadata": {},
   "outputs": [],
   "source": []
  }
 ],
 "metadata": {
  "kernelspec": {
   "display_name": "Python 3",
   "language": "python",
   "name": "python3"
  },
  "language_info": {
   "codemirror_mode": {
    "name": "ipython",
    "version": 3
   },
   "file_extension": ".py",
   "mimetype": "text/x-python",
   "name": "python",
   "nbconvert_exporter": "python",
   "pygments_lexer": "ipython3",
   "version": "3.5.6"
  }
 },
 "nbformat": 4,
 "nbformat_minor": 2
}
