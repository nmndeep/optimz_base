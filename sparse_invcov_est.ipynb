{
 "cells": [
  {
   "cell_type": "markdown",
   "metadata": {},
   "source": [
    "## Sparse Inverse Covariance Estimation\n"
   ]
  },
  {
   "cell_type": "markdown",
   "metadata": {},
   "source": [
    "$$\\min_{X\\in\\mathbb{R}^{n\\times n}, X\\succeq 0} \\langle S, X\\rangle - \\log\\det(X) + \\alpha\\|X\\|_1$$"
   ]
  },
  {
   "cell_type": "code",
   "execution_count": 1,
   "metadata": {},
   "outputs": [],
   "source": [
    "import numpy as np\n",
    "import matplotlib.pyplot as plt\n",
    "%matplotlib inline\n",
    "import autograd.numpy as np\n",
    "import autograd"
   ]
  },
  {
   "cell_type": "code",
   "execution_count": 2,
   "metadata": {},
   "outputs": [],
   "source": [
    "def func(S, X, alpha = 0.15):\n",
    "    return np.trace(S.T.dot(X)) - np.log(np.linalg.det(X)) + alpha*np.sum(np.abs(X))"
   ]
  },
  {
   "cell_type": "code",
   "execution_count": 3,
   "metadata": {},
   "outputs": [],
   "source": [
    "n = 6\n",
    "A = np.random.normal(0,1,(n,n))\n",
    "S = A.dot(A.T)\n",
    "gradient = autograd.grad(lambda X : func(S, X))\n",
    "objective = lambda X: func(S, X)"
   ]
  },
  {
   "cell_type": "code",
   "execution_count": 4,
   "metadata": {},
   "outputs": [],
   "source": [
    "####     Projection onto positive semidefinite cone\n",
    "\n",
    "def project(X):\n",
    "    esp, A = np.linalg.eig(X)\n",
    "    esp[esp<0] = 0.0\n",
    "    return A.dot(np.diag(esp).dot(A.T))\n",
    "\n",
    "def proj_grad_des(start, iters, grad):\n",
    "    points = [start]\n",
    "    for ite in iters:\n",
    "        points.append(project(points[-1]-ite*grad(points[-1])))\n",
    "    return points\n"
   ]
  },
  {
   "cell_type": "code",
   "execution_count": 5,
   "metadata": {},
   "outputs": [],
   "source": [
    "\n",
    "def graph_plt(val):\n",
    "    plt.figure(figsize=(5, 5))\n",
    "    plt.xlabel('Step')\n",
    "    plt.ylabel('Error')\n",
    "    plt.yscale('log')\n",
    "    plt.plot(range(len(val)), val, linewidth=3.0)"
   ]
  },
  {
   "cell_type": "code",
   "execution_count": 6,
   "metadata": {},
   "outputs": [
    {
     "data": {
      "image/png": "[encoded data removed]",
      "text/plain": [
       "<Figure size 360x360 with 1 Axes>"
      ]
     },
     "metadata": {
      "needs_background": "light"
     },
     "output_type": "display_data"
    }
   ],
   "source": [
    "A0 = np.random.normal(0, 1, (n,n))\n",
    "X0 = A0.dot(A0.T)\n",
    "Xs = proj_grad_des(X0, [0.01]*400, gradient)\n",
    "graph_plt([objective(X) for X in Xs])"
   ]
  },
  {
   "cell_type": "code",
   "execution_count": null,
   "metadata": {},
   "outputs": [],
   "source": []
  }
 ],
 "metadata": {
  "kernelspec": {
   "display_name": "Python 3",
   "language": "python",
   "name": "python3"
  },
  "language_info": {
   "codemirror_mode": {
    "name": "ipython",
    "version": 3
   },
   "file_extension": ".py",
   "mimetype": "text/x-python",
   "name": "python",
   "nbconvert_exporter": "python",
   "pygments_lexer": "ipython3",
   "version": "3.5.6"
  }
 },
 "nbformat": 4,
 "nbformat_minor": 2
}
